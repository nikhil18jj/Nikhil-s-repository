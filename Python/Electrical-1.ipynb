{
 "cells": [
  {
   "cell_type": "code",
   "execution_count": 1,
   "metadata": {},
   "outputs": [],
   "source": [
    "## Importing all the libraries\n",
    "import numpy as np\n",
    "import pandas as pd \n",
    "import matplotlib.pyplot as plt\n",
    "from sklearn.ensemble import RandomForestRegressor\n",
    "from sklearn.model_selection import train_test_split\n",
    "from sklearn.multioutput import MultiOutputRegressor\n",
    "import seaborn as sns\n",
    "import warnings\n",
    "warnings.filterwarnings('ignore')\n"
   ]
  },
  {
   "cell_type": "code",
   "execution_count": 2,
   "metadata": {},
   "outputs": [
    {
     "data": {
      "text/html": [
       "<div>\n",
       "<style scoped>\n",
       "    .dataframe tbody tr th:only-of-type {\n",
       "        vertical-align: middle;\n",
       "    }\n",
       "\n",
       "    .dataframe tbody tr th {\n",
       "        vertical-align: top;\n",
       "    }\n",
       "\n",
       "    .dataframe thead th {\n",
       "        text-align: right;\n",
       "    }\n",
       "</style>\n",
       "<table border=\"1\" class=\"dataframe\">\n",
       "  <thead>\n",
       "    <tr style=\"text-align: right;\">\n",
       "      <th></th>\n",
       "      <th>Point</th>\n",
       "      <th>Corner</th>\n",
       "      <th>C1</th>\n",
       "      <th>L1</th>\n",
       "      <th>C2</th>\n",
       "      <th>L2</th>\n",
       "      <th>Pass/Fail</th>\n",
       "      <th>fc</th>\n",
       "      <th>PhaseMargin</th>\n",
       "      <th>GainMargin</th>\n",
       "    </tr>\n",
       "  </thead>\n",
       "  <tbody>\n",
       "    <tr>\n",
       "      <th>0</th>\n",
       "      <td>1.0</td>\n",
       "      <td>nom</td>\n",
       "      <td>0.000001</td>\n",
       "      <td>0.00004</td>\n",
       "      <td>0.00001</td>\n",
       "      <td>0.000100</td>\n",
       "      <td>NaN</td>\n",
       "      <td>3.743e3</td>\n",
       "      <td>51.42</td>\n",
       "      <td>12.97</td>\n",
       "    </tr>\n",
       "    <tr>\n",
       "      <th>1</th>\n",
       "      <td>2.0</td>\n",
       "      <td>nom</td>\n",
       "      <td>0.000001</td>\n",
       "      <td>0.00004</td>\n",
       "      <td>0.00001</td>\n",
       "      <td>0.000080</td>\n",
       "      <td>NaN</td>\n",
       "      <td>3.704e3</td>\n",
       "      <td>52.94</td>\n",
       "      <td>21.31</td>\n",
       "    </tr>\n",
       "    <tr>\n",
       "      <th>2</th>\n",
       "      <td>3.0</td>\n",
       "      <td>nom</td>\n",
       "      <td>0.000001</td>\n",
       "      <td>0.00004</td>\n",
       "      <td>0.00001</td>\n",
       "      <td>0.000084</td>\n",
       "      <td>NaN</td>\n",
       "      <td>3.712e3</td>\n",
       "      <td>52.59</td>\n",
       "      <td>17.84</td>\n",
       "    </tr>\n",
       "    <tr>\n",
       "      <th>3</th>\n",
       "      <td>4.0</td>\n",
       "      <td>nom</td>\n",
       "      <td>0.000001</td>\n",
       "      <td>0.00004</td>\n",
       "      <td>0.00001</td>\n",
       "      <td>0.000089</td>\n",
       "      <td>NaN</td>\n",
       "      <td>3.719e3</td>\n",
       "      <td>52.22</td>\n",
       "      <td>15.34</td>\n",
       "    </tr>\n",
       "    <tr>\n",
       "      <th>4</th>\n",
       "      <td>5.0</td>\n",
       "      <td>nom</td>\n",
       "      <td>0.000001</td>\n",
       "      <td>0.00004</td>\n",
       "      <td>0.00001</td>\n",
       "      <td>0.000093</td>\n",
       "      <td>NaN</td>\n",
       "      <td>3.727e3</td>\n",
       "      <td>51.8</td>\n",
       "      <td>13.75</td>\n",
       "    </tr>\n",
       "  </tbody>\n",
       "</table>\n",
       "</div>"
      ],
      "text/plain": [
       "   Point Corner        C1       L1       C2        L2  Pass/Fail       fc  \\\n",
       "0    1.0    nom  0.000001  0.00004  0.00001  0.000100        NaN  3.743e3   \n",
       "1    2.0    nom  0.000001  0.00004  0.00001  0.000080        NaN  3.704e3   \n",
       "2    3.0    nom  0.000001  0.00004  0.00001  0.000084        NaN  3.712e3   \n",
       "3    4.0    nom  0.000001  0.00004  0.00001  0.000089        NaN  3.719e3   \n",
       "4    5.0    nom  0.000001  0.00004  0.00001  0.000093        NaN  3.727e3   \n",
       "\n",
       "  PhaseMargin GainMargin  \n",
       "0       51.42      12.97  \n",
       "1       52.94      21.31  \n",
       "2       52.59      17.84  \n",
       "3       52.22      15.34  \n",
       "4        51.8      13.75  "
      ]
     },
     "execution_count": 2,
     "metadata": {},
     "output_type": "execute_result"
    }
   ],
   "source": [
    "# Reading the data\n",
    "data = pd.read_csv(\"C:/Users/nikhi/Desktop/gaia_modified.csv\")\n",
    "data.head()"
   ]
  },
  {
   "cell_type": "code",
   "execution_count": 3,
   "metadata": {},
   "outputs": [
    {
     "data": {
      "text/plain": [
       "(14641, 10)"
      ]
     },
     "execution_count": 3,
     "metadata": {},
     "output_type": "execute_result"
    }
   ],
   "source": [
    "# Checking for size and shape\n",
    "data.shape"
   ]
  },
  {
   "cell_type": "code",
   "execution_count": 4,
   "metadata": {},
   "outputs": [
    {
     "data": {
      "text/plain": [
       "Point              0\n",
       "Corner             0\n",
       "C1                 0\n",
       "L1                 0\n",
       "C2                 0\n",
       "L2                 0\n",
       "Pass/Fail      14641\n",
       "fc                 0\n",
       "PhaseMargin        0\n",
       "GainMargin         0\n",
       "dtype: int64"
      ]
     },
     "execution_count": 4,
     "metadata": {},
     "output_type": "execute_result"
    }
   ],
   "source": [
    "# Checking for NULL/NA characters.\n",
    "data.isna().sum()"
   ]
  },
  {
   "cell_type": "code",
   "execution_count": 5,
   "metadata": {},
   "outputs": [],
   "source": [
    "# Removing the column Pass/Fail\n",
    "del data[\"Pass/Fail\"]"
   ]
  },
  {
   "cell_type": "code",
   "execution_count": 6,
   "metadata": {},
   "outputs": [
    {
     "data": {
      "text/html": [
       "<div>\n",
       "<style scoped>\n",
       "    .dataframe tbody tr th:only-of-type {\n",
       "        vertical-align: middle;\n",
       "    }\n",
       "\n",
       "    .dataframe tbody tr th {\n",
       "        vertical-align: top;\n",
       "    }\n",
       "\n",
       "    .dataframe thead th {\n",
       "        text-align: right;\n",
       "    }\n",
       "</style>\n",
       "<table border=\"1\" class=\"dataframe\">\n",
       "  <thead>\n",
       "    <tr style=\"text-align: right;\">\n",
       "      <th></th>\n",
       "      <th>Point</th>\n",
       "      <th>Corner</th>\n",
       "      <th>C1</th>\n",
       "      <th>L1</th>\n",
       "      <th>C2</th>\n",
       "      <th>L2</th>\n",
       "      <th>fc</th>\n",
       "      <th>PhaseMargin</th>\n",
       "      <th>GainMargin</th>\n",
       "    </tr>\n",
       "  </thead>\n",
       "  <tbody>\n",
       "    <tr>\n",
       "      <th>0</th>\n",
       "      <td>1.0</td>\n",
       "      <td>nom</td>\n",
       "      <td>0.000001</td>\n",
       "      <td>0.00004</td>\n",
       "      <td>0.00001</td>\n",
       "      <td>0.000100</td>\n",
       "      <td>3.743e3</td>\n",
       "      <td>51.42</td>\n",
       "      <td>12.97</td>\n",
       "    </tr>\n",
       "    <tr>\n",
       "      <th>1</th>\n",
       "      <td>2.0</td>\n",
       "      <td>nom</td>\n",
       "      <td>0.000001</td>\n",
       "      <td>0.00004</td>\n",
       "      <td>0.00001</td>\n",
       "      <td>0.000080</td>\n",
       "      <td>3.704e3</td>\n",
       "      <td>52.94</td>\n",
       "      <td>21.31</td>\n",
       "    </tr>\n",
       "    <tr>\n",
       "      <th>2</th>\n",
       "      <td>3.0</td>\n",
       "      <td>nom</td>\n",
       "      <td>0.000001</td>\n",
       "      <td>0.00004</td>\n",
       "      <td>0.00001</td>\n",
       "      <td>0.000084</td>\n",
       "      <td>3.712e3</td>\n",
       "      <td>52.59</td>\n",
       "      <td>17.84</td>\n",
       "    </tr>\n",
       "    <tr>\n",
       "      <th>3</th>\n",
       "      <td>4.0</td>\n",
       "      <td>nom</td>\n",
       "      <td>0.000001</td>\n",
       "      <td>0.00004</td>\n",
       "      <td>0.00001</td>\n",
       "      <td>0.000089</td>\n",
       "      <td>3.719e3</td>\n",
       "      <td>52.22</td>\n",
       "      <td>15.34</td>\n",
       "    </tr>\n",
       "    <tr>\n",
       "      <th>4</th>\n",
       "      <td>5.0</td>\n",
       "      <td>nom</td>\n",
       "      <td>0.000001</td>\n",
       "      <td>0.00004</td>\n",
       "      <td>0.00001</td>\n",
       "      <td>0.000093</td>\n",
       "      <td>3.727e3</td>\n",
       "      <td>51.8</td>\n",
       "      <td>13.75</td>\n",
       "    </tr>\n",
       "  </tbody>\n",
       "</table>\n",
       "</div>"
      ],
      "text/plain": [
       "   Point Corner        C1       L1       C2        L2       fc PhaseMargin  \\\n",
       "0    1.0    nom  0.000001  0.00004  0.00001  0.000100  3.743e3       51.42   \n",
       "1    2.0    nom  0.000001  0.00004  0.00001  0.000080  3.704e3       52.94   \n",
       "2    3.0    nom  0.000001  0.00004  0.00001  0.000084  3.712e3       52.59   \n",
       "3    4.0    nom  0.000001  0.00004  0.00001  0.000089  3.719e3       52.22   \n",
       "4    5.0    nom  0.000001  0.00004  0.00001  0.000093  3.727e3        51.8   \n",
       "\n",
       "  GainMargin  \n",
       "0      12.97  \n",
       "1      21.31  \n",
       "2      17.84  \n",
       "3      15.34  \n",
       "4      13.75  "
      ]
     },
     "execution_count": 6,
     "metadata": {},
     "output_type": "execute_result"
    }
   ],
   "source": [
    "data.head()"
   ]
  },
  {
   "cell_type": "code",
   "execution_count": 7,
   "metadata": {},
   "outputs": [
    {
     "data": {
      "text/html": [
       "<div>\n",
       "<style scoped>\n",
       "    .dataframe tbody tr th:only-of-type {\n",
       "        vertical-align: middle;\n",
       "    }\n",
       "\n",
       "    .dataframe tbody tr th {\n",
       "        vertical-align: top;\n",
       "    }\n",
       "\n",
       "    .dataframe thead th {\n",
       "        text-align: right;\n",
       "    }\n",
       "</style>\n",
       "<table border=\"1\" class=\"dataframe\">\n",
       "  <thead>\n",
       "    <tr style=\"text-align: right;\">\n",
       "      <th></th>\n",
       "      <th>Point</th>\n",
       "      <th>C1</th>\n",
       "      <th>L1</th>\n",
       "      <th>C2</th>\n",
       "      <th>L2</th>\n",
       "    </tr>\n",
       "  </thead>\n",
       "  <tbody>\n",
       "    <tr>\n",
       "      <th>count</th>\n",
       "      <td>14641.000000</td>\n",
       "      <td>1.464100e+04</td>\n",
       "      <td>14641.000000</td>\n",
       "      <td>14641.000000</td>\n",
       "      <td>14641.000000</td>\n",
       "    </tr>\n",
       "    <tr>\n",
       "      <th>mean</th>\n",
       "      <td>7320.999932</td>\n",
       "      <td>1.000036e-06</td>\n",
       "      <td>0.000040</td>\n",
       "      <td>0.000010</td>\n",
       "      <td>0.000100</td>\n",
       "    </tr>\n",
       "    <tr>\n",
       "      <th>std</th>\n",
       "      <td>4226.637669</td>\n",
       "      <td>1.217813e-07</td>\n",
       "      <td>0.000005</td>\n",
       "      <td>0.000001</td>\n",
       "      <td>0.000012</td>\n",
       "    </tr>\n",
       "    <tr>\n",
       "      <th>min</th>\n",
       "      <td>1.000000</td>\n",
       "      <td>8.000000e-07</td>\n",
       "      <td>0.000032</td>\n",
       "      <td>0.000008</td>\n",
       "      <td>0.000080</td>\n",
       "    </tr>\n",
       "    <tr>\n",
       "      <th>25%</th>\n",
       "      <td>3661.000000</td>\n",
       "      <td>8.889000e-07</td>\n",
       "      <td>0.000036</td>\n",
       "      <td>0.000009</td>\n",
       "      <td>0.000089</td>\n",
       "    </tr>\n",
       "    <tr>\n",
       "      <th>50%</th>\n",
       "      <td>7321.000000</td>\n",
       "      <td>1.000000e-06</td>\n",
       "      <td>0.000040</td>\n",
       "      <td>0.000010</td>\n",
       "      <td>0.000100</td>\n",
       "    </tr>\n",
       "    <tr>\n",
       "      <th>75%</th>\n",
       "      <td>10980.000000</td>\n",
       "      <td>1.111000e-06</td>\n",
       "      <td>0.000044</td>\n",
       "      <td>0.000011</td>\n",
       "      <td>0.000111</td>\n",
       "    </tr>\n",
       "    <tr>\n",
       "      <th>max</th>\n",
       "      <td>14640.000000</td>\n",
       "      <td>1.200000e-06</td>\n",
       "      <td>0.000048</td>\n",
       "      <td>0.000012</td>\n",
       "      <td>0.000120</td>\n",
       "    </tr>\n",
       "  </tbody>\n",
       "</table>\n",
       "</div>"
      ],
      "text/plain": [
       "              Point            C1            L1            C2            L2\n",
       "count  14641.000000  1.464100e+04  14641.000000  14641.000000  14641.000000\n",
       "mean    7320.999932  1.000036e-06      0.000040      0.000010      0.000100\n",
       "std     4226.637669  1.217813e-07      0.000005      0.000001      0.000012\n",
       "min        1.000000  8.000000e-07      0.000032      0.000008      0.000080\n",
       "25%     3661.000000  8.889000e-07      0.000036      0.000009      0.000089\n",
       "50%     7321.000000  1.000000e-06      0.000040      0.000010      0.000100\n",
       "75%    10980.000000  1.111000e-06      0.000044      0.000011      0.000111\n",
       "max    14640.000000  1.200000e-06      0.000048      0.000012      0.000120"
      ]
     },
     "execution_count": 7,
     "metadata": {},
     "output_type": "execute_result"
    }
   ],
   "source": [
    "# Descriptive statistics\n",
    "data.describe()"
   ]
  },
  {
   "cell_type": "code",
   "execution_count": 8,
   "metadata": {},
   "outputs": [
    {
     "data": {
      "text/html": [
       "<div>\n",
       "<style scoped>\n",
       "    .dataframe tbody tr th:only-of-type {\n",
       "        vertical-align: middle;\n",
       "    }\n",
       "\n",
       "    .dataframe tbody tr th {\n",
       "        vertical-align: top;\n",
       "    }\n",
       "\n",
       "    .dataframe thead th {\n",
       "        text-align: right;\n",
       "    }\n",
       "</style>\n",
       "<table border=\"1\" class=\"dataframe\">\n",
       "  <thead>\n",
       "    <tr style=\"text-align: right;\">\n",
       "      <th></th>\n",
       "      <th>PhaseMargin</th>\n",
       "      <th>GainMargin</th>\n",
       "    </tr>\n",
       "  </thead>\n",
       "  <tbody>\n",
       "    <tr>\n",
       "      <th>count</th>\n",
       "      <td>14641</td>\n",
       "      <td>14641</td>\n",
       "    </tr>\n",
       "    <tr>\n",
       "      <th>unique</th>\n",
       "      <td>1187</td>\n",
       "      <td>3291</td>\n",
       "    </tr>\n",
       "    <tr>\n",
       "      <th>top</th>\n",
       "      <td>netl err</td>\n",
       "      <td>netl err</td>\n",
       "    </tr>\n",
       "    <tr>\n",
       "      <th>freq</th>\n",
       "      <td>3091</td>\n",
       "      <td>3091</td>\n",
       "    </tr>\n",
       "  </tbody>\n",
       "</table>\n",
       "</div>"
      ],
      "text/plain": [
       "       PhaseMargin GainMargin\n",
       "count        14641      14641\n",
       "unique        1187       3291\n",
       "top       netl err   netl err\n",
       "freq          3091       3091"
      ]
     },
     "execution_count": 8,
     "metadata": {},
     "output_type": "execute_result"
    }
   ],
   "source": [
    "# Descriptive statistics of Gain and Phase Margin\n",
    "data[[\"PhaseMargin\",\"GainMargin\"]].describe()"
   ]
  },
  {
   "cell_type": "code",
   "execution_count": 9,
   "metadata": {},
   "outputs": [],
   "source": [
    "# Making netl err value in Phase and Gain error to NA values\n",
    "data[\"PhaseMargin\"][data[\"PhaseMargin\"]=='netl err'] = np.nan\n",
    "data[\"GainMargin\"][data[\"GainMargin\"]=='netl err'] = np.nan"
   ]
  },
  {
   "cell_type": "code",
   "execution_count": 10,
   "metadata": {},
   "outputs": [
    {
     "data": {
      "text/plain": [
       "Point             0\n",
       "Corner            0\n",
       "C1                0\n",
       "L1                0\n",
       "C2                0\n",
       "L2                0\n",
       "fc                0\n",
       "PhaseMargin    3091\n",
       "GainMargin     3091\n",
       "dtype: int64"
      ]
     },
     "execution_count": 10,
     "metadata": {},
     "output_type": "execute_result"
    }
   ],
   "source": [
    "# Checking for NA values\n",
    "data.isna().sum()"
   ]
  },
  {
   "cell_type": "code",
   "execution_count": 11,
   "metadata": {},
   "outputs": [],
   "source": [
    "# dropping all na value\n",
    "data_cleaned = data.dropna()"
   ]
  },
  {
   "cell_type": "code",
   "execution_count": 12,
   "metadata": {},
   "outputs": [
    {
     "data": {
      "text/plain": [
       "Point          0\n",
       "Corner         0\n",
       "C1             0\n",
       "L1             0\n",
       "C2             0\n",
       "L2             0\n",
       "fc             0\n",
       "PhaseMargin    0\n",
       "GainMargin     0\n",
       "dtype: int64"
      ]
     },
     "execution_count": 12,
     "metadata": {},
     "output_type": "execute_result"
    }
   ],
   "source": [
    "# counting number of NA\n",
    "data_cleaned.isna().sum()"
   ]
  },
  {
   "cell_type": "code",
   "execution_count": 13,
   "metadata": {},
   "outputs": [
    {
     "data": {
      "text/plain": [
       "Point          float64\n",
       "Corner          object\n",
       "C1             float64\n",
       "L1             float64\n",
       "C2             float64\n",
       "L2             float64\n",
       "fc              object\n",
       "PhaseMargin     object\n",
       "GainMargin      object\n",
       "dtype: object"
      ]
     },
     "execution_count": 13,
     "metadata": {},
     "output_type": "execute_result"
    }
   ],
   "source": [
    "# Checking for data types\n",
    "data_cleaned.dtypes"
   ]
  },
  {
   "cell_type": "code",
   "execution_count": 14,
   "metadata": {},
   "outputs": [],
   "source": [
    "#  converting phase and gain margin to Float\n",
    "data_cleaned['PhaseMargin'] = data_cleaned['PhaseMargin'].astype(float)\n",
    "data_cleaned['GainMargin'] = data_cleaned['GainMargin'].astype(float)"
   ]
  },
  {
   "cell_type": "code",
   "execution_count": 15,
   "metadata": {},
   "outputs": [
    {
     "data": {
      "text/html": [
       "<div>\n",
       "<style scoped>\n",
       "    .dataframe tbody tr th:only-of-type {\n",
       "        vertical-align: middle;\n",
       "    }\n",
       "\n",
       "    .dataframe tbody tr th {\n",
       "        vertical-align: top;\n",
       "    }\n",
       "\n",
       "    .dataframe thead th {\n",
       "        text-align: right;\n",
       "    }\n",
       "</style>\n",
       "<table border=\"1\" class=\"dataframe\">\n",
       "  <thead>\n",
       "    <tr style=\"text-align: right;\">\n",
       "      <th></th>\n",
       "      <th>Point</th>\n",
       "      <th>C1</th>\n",
       "      <th>L1</th>\n",
       "      <th>C2</th>\n",
       "      <th>L2</th>\n",
       "      <th>PhaseMargin</th>\n",
       "      <th>GainMargin</th>\n",
       "    </tr>\n",
       "  </thead>\n",
       "  <tbody>\n",
       "    <tr>\n",
       "      <th>count</th>\n",
       "      <td>11550.000000</td>\n",
       "      <td>1.155000e+04</td>\n",
       "      <td>11550.000000</td>\n",
       "      <td>11550.000000</td>\n",
       "      <td>11550.000000</td>\n",
       "      <td>11550.000000</td>\n",
       "      <td>11550.000000</td>\n",
       "    </tr>\n",
       "    <tr>\n",
       "      <th>mean</th>\n",
       "      <td>7017.519913</td>\n",
       "      <td>9.956189e-07</td>\n",
       "      <td>0.000040</td>\n",
       "      <td>0.000010</td>\n",
       "      <td>0.000100</td>\n",
       "      <td>51.438262</td>\n",
       "      <td>14.887883</td>\n",
       "    </tr>\n",
       "    <tr>\n",
       "      <th>std</th>\n",
       "      <td>4690.029105</td>\n",
       "      <td>1.356966e-07</td>\n",
       "      <td>0.000005</td>\n",
       "      <td>0.000001</td>\n",
       "      <td>0.000012</td>\n",
       "      <td>2.369442</td>\n",
       "      <td>5.015508</td>\n",
       "    </tr>\n",
       "    <tr>\n",
       "      <th>min</th>\n",
       "      <td>1.000000</td>\n",
       "      <td>8.000000e-07</td>\n",
       "      <td>0.000032</td>\n",
       "      <td>0.000008</td>\n",
       "      <td>0.000080</td>\n",
       "      <td>45.180000</td>\n",
       "      <td>-0.617900</td>\n",
       "    </tr>\n",
       "    <tr>\n",
       "      <th>25%</th>\n",
       "      <td>2888.250000</td>\n",
       "      <td>8.889000e-07</td>\n",
       "      <td>0.000036</td>\n",
       "      <td>0.000009</td>\n",
       "      <td>0.000089</td>\n",
       "      <td>49.740000</td>\n",
       "      <td>11.240000</td>\n",
       "    </tr>\n",
       "    <tr>\n",
       "      <th>50%</th>\n",
       "      <td>5775.500000</td>\n",
       "      <td>1.000000e-06</td>\n",
       "      <td>0.000040</td>\n",
       "      <td>0.000010</td>\n",
       "      <td>0.000100</td>\n",
       "      <td>51.330000</td>\n",
       "      <td>15.170000</td>\n",
       "    </tr>\n",
       "    <tr>\n",
       "      <th>75%</th>\n",
       "      <td>11750.000000</td>\n",
       "      <td>1.111000e-06</td>\n",
       "      <td>0.000044</td>\n",
       "      <td>0.000011</td>\n",
       "      <td>0.000111</td>\n",
       "      <td>53.050000</td>\n",
       "      <td>19.000000</td>\n",
       "    </tr>\n",
       "    <tr>\n",
       "      <th>max</th>\n",
       "      <td>14640.000000</td>\n",
       "      <td>1.200000e-06</td>\n",
       "      <td>0.000048</td>\n",
       "      <td>0.000012</td>\n",
       "      <td>0.000120</td>\n",
       "      <td>59.290000</td>\n",
       "      <td>26.590000</td>\n",
       "    </tr>\n",
       "  </tbody>\n",
       "</table>\n",
       "</div>"
      ],
      "text/plain": [
       "              Point            C1            L1            C2            L2  \\\n",
       "count  11550.000000  1.155000e+04  11550.000000  11550.000000  11550.000000   \n",
       "mean    7017.519913  9.956189e-07      0.000040      0.000010      0.000100   \n",
       "std     4690.029105  1.356966e-07      0.000005      0.000001      0.000012   \n",
       "min        1.000000  8.000000e-07      0.000032      0.000008      0.000080   \n",
       "25%     2888.250000  8.889000e-07      0.000036      0.000009      0.000089   \n",
       "50%     5775.500000  1.000000e-06      0.000040      0.000010      0.000100   \n",
       "75%    11750.000000  1.111000e-06      0.000044      0.000011      0.000111   \n",
       "max    14640.000000  1.200000e-06      0.000048      0.000012      0.000120   \n",
       "\n",
       "        PhaseMargin    GainMargin  \n",
       "count  11550.000000  11550.000000  \n",
       "mean      51.438262     14.887883  \n",
       "std        2.369442      5.015508  \n",
       "min       45.180000     -0.617900  \n",
       "25%       49.740000     11.240000  \n",
       "50%       51.330000     15.170000  \n",
       "75%       53.050000     19.000000  \n",
       "max       59.290000     26.590000  "
      ]
     },
     "execution_count": 15,
     "metadata": {},
     "output_type": "execute_result"
    }
   ],
   "source": [
    "# Descriptive statistics\n",
    "data_cleaned.describe()"
   ]
  },
  {
   "cell_type": "code",
   "execution_count": 16,
   "metadata": {},
   "outputs": [
    {
     "data": {
      "text/plain": [
       "{'whiskers': [<matplotlib.lines.Line2D at 0x1bcf767d388>,\n",
       "  <matplotlib.lines.Line2D at 0x1bcf766ecc8>],\n",
       " 'caps': [<matplotlib.lines.Line2D at 0x1bcf767dfc8>,\n",
       "  <matplotlib.lines.Line2D at 0x1bcf767db48>],\n",
       " 'boxes': [<matplotlib.lines.Line2D at 0x1bcf766ea48>],\n",
       " 'medians': [<matplotlib.lines.Line2D at 0x1bcf7687ec8>],\n",
       " 'fliers': [<matplotlib.lines.Line2D at 0x1bcf7687fc8>],\n",
       " 'means': []}"
      ]
     },
     "execution_count": 16,
     "metadata": {},
     "output_type": "execute_result"
    },
    {
     "data": {
      "image/png": "[encoded data removed]",
      "text/plain": [
       "<Figure size 432x288 with 1 Axes>"
      ]
     },
     "metadata": {
      "needs_background": "light"
     },
     "output_type": "display_data"
    }
   ],
   "source": [
    "plt.boxplot(data_cleaned[\"C1\"])"
   ]
  },
  {
   "cell_type": "code",
   "execution_count": 17,
   "metadata": {},
   "outputs": [
    {
     "data": {
      "text/plain": [
       "{'whiskers': [<matplotlib.lines.Line2D at 0x1bcf772d808>,\n",
       "  <matplotlib.lines.Line2D at 0x1bcf772df08>],\n",
       " 'caps': [<matplotlib.lines.Line2D at 0x1bcf772dfc8>,\n",
       "  <matplotlib.lines.Line2D at 0x1bcf7730a48>],\n",
       " 'boxes': [<matplotlib.lines.Line2D at 0x1bcf7729d08>],\n",
       " 'medians': [<matplotlib.lines.Line2D at 0x1bcf7734a48>],\n",
       " 'fliers': [<matplotlib.lines.Line2D at 0x1bcf76a4448>],\n",
       " 'means': []}"
      ]
     },
     "execution_count": 17,
     "metadata": {},
     "output_type": "execute_result"
    },
    {
     "data": {
      "image/png": "[encoded data removed]",
      "text/plain": [
       "<Figure size 432x288 with 1 Axes>"
      ]
     },
     "metadata": {
      "needs_background": "light"
     },
     "output_type": "display_data"
    }
   ],
   "source": [
    "plt.boxplot(data_cleaned[\"L1\"])"
   ]
  },
  {
   "cell_type": "code",
   "execution_count": 18,
   "metadata": {},
   "outputs": [
    {
     "data": {
      "text/plain": [
       "{'whiskers': [<matplotlib.lines.Line2D at 0x1bcf77a6e08>,\n",
       "  <matplotlib.lines.Line2D at 0x1bcf77a6f08>],\n",
       " 'caps': [<matplotlib.lines.Line2D at 0x1bcf77abdc8>,\n",
       "  <matplotlib.lines.Line2D at 0x1bcf77abec8>],\n",
       " 'boxes': [<matplotlib.lines.Line2D at 0x1bcf77a6348>],\n",
       " 'medians': [<matplotlib.lines.Line2D at 0x1bcf77aee48>],\n",
       " 'fliers': [<matplotlib.lines.Line2D at 0x1bcf776ae48>],\n",
       " 'means': []}"
      ]
     },
     "execution_count": 18,
     "metadata": {},
     "output_type": "execute_result"
    },
    {
     "data": {
      "image/png": "[encoded data removed]",
      "text/plain": [
       "<Figure size 432x288 with 1 Axes>"
      ]
     },
     "metadata": {
      "needs_background": "light"
     },
     "output_type": "display_data"
    }
   ],
   "source": [
    "plt.boxplot(data_cleaned[\"C2\"])"
   ]
  },
  {
   "cell_type": "code",
   "execution_count": 19,
   "metadata": {},
   "outputs": [
    {
     "data": {
      "text/plain": [
       "{'whiskers': [<matplotlib.lines.Line2D at 0x1bcf7819948>,\n",
       "  <matplotlib.lines.Line2D at 0x1bcf7819fc8>],\n",
       " 'caps': [<matplotlib.lines.Line2D at 0x1bcf781f9c8>,\n",
       "  <matplotlib.lines.Line2D at 0x1bcf781fac8>],\n",
       " 'boxes': [<matplotlib.lines.Line2D at 0x1bcf7815e48>],\n",
       " 'medians': [<matplotlib.lines.Line2D at 0x1bcf7823ac8>],\n",
       " 'fliers': [<matplotlib.lines.Line2D at 0x1bcf77d54c8>],\n",
       " 'means': []}"
      ]
     },
     "execution_count": 19,
     "metadata": {},
     "output_type": "execute_result"
    },
    {
     "data": {
      "image/png": "[encoded data removed]",
      "text/plain": [
       "<Figure size 432x288 with 1 Axes>"
      ]
     },
     "metadata": {
      "needs_background": "light"
     },
     "output_type": "display_data"
    }
   ],
   "source": [
    "plt.boxplot(data_cleaned[\"L2\"])"
   ]
  },
  {
   "cell_type": "code",
   "execution_count": 20,
   "metadata": {},
   "outputs": [
    {
     "data": {
      "text/plain": [
       "<matplotlib.axes._subplots.AxesSubplot at 0x1bcf77d5308>"
      ]
     },
     "execution_count": 20,
     "metadata": {},
     "output_type": "execute_result"
    },
    {
     "data": {
      "image/png": "[encoded data removed]",
      "text/plain": [
       "<Figure size 432x288 with 1 Axes>"
      ]
     },
     "metadata": {
      "needs_background": "light"
     },
     "output_type": "display_data"
    }
   ],
   "source": [
    "sns.distplot(data_cleaned[\"C1\"],hist=False)"
   ]
  },
  {
   "cell_type": "code",
   "execution_count": 21,
   "metadata": {},
   "outputs": [
    {
     "data": {
      "text/plain": [
       "<matplotlib.axes._subplots.AxesSubplot at 0x1bcf784bc08>"
      ]
     },
     "execution_count": 21,
     "metadata": {},
     "output_type": "execute_result"
    },
    {
     "data": {
      "image/png": "[encoded data removed]",
      "text/plain": [
       "<Figure size 432x288 with 1 Axes>"
      ]
     },
     "metadata": {
      "needs_background": "light"
     },
     "output_type": "display_data"
    }
   ],
   "source": [
    "sns.distplot(data_cleaned[\"L1\"],hist=False)"
   ]
  },
  {
   "cell_type": "code",
   "execution_count": 22,
   "metadata": {},
   "outputs": [
    {
     "data": {
      "text/plain": [
       "<matplotlib.axes._subplots.AxesSubplot at 0x1bcf7923348>"
      ]
     },
     "execution_count": 22,
     "metadata": {},
     "output_type": "execute_result"
    },
    {
     "data": {
      "image/png": "[encoded data removed]",
      "text/plain": [
       "<Figure size 432x288 with 1 Axes>"
      ]
     },
     "metadata": {
      "needs_background": "light"
     },
     "output_type": "display_data"
    }
   ],
   "source": [
    "sns.distplot(data_cleaned[\"C2\"],hist=False)"
   ]
  },
  {
   "cell_type": "code",
   "execution_count": 23,
   "metadata": {},
   "outputs": [
    {
     "data": {
      "text/plain": [
       "<matplotlib.axes._subplots.AxesSubplot at 0x1bcf79843c8>"
      ]
     },
     "execution_count": 23,
     "metadata": {},
     "output_type": "execute_result"
    },
    {
     "data": {
      "image/png": "[encoded data removed]",
      "text/plain": [
       "<Figure size 432x288 with 1 Axes>"
      ]
     },
     "metadata": {
      "needs_background": "light"
     },
     "output_type": "display_data"
    }
   ],
   "source": [
    "sns.distplot(data_cleaned[\"L2\"],hist=False)"
   ]
  },
  {
   "cell_type": "code",
   "execution_count": 26,
   "metadata": {},
   "outputs": [
    {
     "data": {
      "text/html": [
       "<div>\n",
       "<style scoped>\n",
       "    .dataframe tbody tr th:only-of-type {\n",
       "        vertical-align: middle;\n",
       "    }\n",
       "\n",
       "    .dataframe tbody tr th {\n",
       "        vertical-align: top;\n",
       "    }\n",
       "\n",
       "    .dataframe thead th {\n",
       "        text-align: right;\n",
       "    }\n",
       "</style>\n",
       "<table border=\"1\" class=\"dataframe\">\n",
       "  <thead>\n",
       "    <tr style=\"text-align: right;\">\n",
       "      <th></th>\n",
       "      <th>Point</th>\n",
       "      <th>C1</th>\n",
       "      <th>L1</th>\n",
       "      <th>C2</th>\n",
       "      <th>L2</th>\n",
       "      <th>PhaseMargin</th>\n",
       "      <th>GainMargin</th>\n",
       "    </tr>\n",
       "  </thead>\n",
       "  <tbody>\n",
       "    <tr>\n",
       "      <th>Point</th>\n",
       "      <td>1.000000</td>\n",
       "      <td>8.627235e-01</td>\n",
       "      <td>9.988613e-02</td>\n",
       "      <td>9.041656e-03</td>\n",
       "      <td>5.844339e-04</td>\n",
       "      <td>-0.129191</td>\n",
       "      <td>-0.562638</td>\n",
       "    </tr>\n",
       "    <tr>\n",
       "      <th>C1</th>\n",
       "      <td>0.862724</td>\n",
       "      <td>1.000000e+00</td>\n",
       "      <td>2.711442e-02</td>\n",
       "      <td>2.189315e-03</td>\n",
       "      <td>1.699551e-08</td>\n",
       "      <td>-0.086182</td>\n",
       "      <td>-0.611663</td>\n",
       "    </tr>\n",
       "    <tr>\n",
       "      <th>L1</th>\n",
       "      <td>0.099886</td>\n",
       "      <td>2.711442e-02</td>\n",
       "      <td>1.000000e+00</td>\n",
       "      <td>-6.832886e-04</td>\n",
       "      <td>2.818449e-08</td>\n",
       "      <td>-0.655149</td>\n",
       "      <td>-0.520538</td>\n",
       "    </tr>\n",
       "    <tr>\n",
       "      <th>C2</th>\n",
       "      <td>0.009042</td>\n",
       "      <td>2.189315e-03</td>\n",
       "      <td>-6.832886e-04</td>\n",
       "      <td>1.000000e+00</td>\n",
       "      <td>5.666654e-08</td>\n",
       "      <td>-0.639308</td>\n",
       "      <td>0.204621</td>\n",
       "    </tr>\n",
       "    <tr>\n",
       "      <th>L2</th>\n",
       "      <td>0.000584</td>\n",
       "      <td>1.699551e-08</td>\n",
       "      <td>2.818449e-08</td>\n",
       "      <td>5.666654e-08</td>\n",
       "      <td>1.000000e+00</td>\n",
       "      <td>-0.386891</td>\n",
       "      <td>0.099908</td>\n",
       "    </tr>\n",
       "    <tr>\n",
       "      <th>PhaseMargin</th>\n",
       "      <td>-0.129191</td>\n",
       "      <td>-8.618234e-02</td>\n",
       "      <td>-6.551493e-01</td>\n",
       "      <td>-6.393075e-01</td>\n",
       "      <td>-3.868910e-01</td>\n",
       "      <td>1.000000</td>\n",
       "      <td>0.213098</td>\n",
       "    </tr>\n",
       "    <tr>\n",
       "      <th>GainMargin</th>\n",
       "      <td>-0.562638</td>\n",
       "      <td>-6.116631e-01</td>\n",
       "      <td>-5.205376e-01</td>\n",
       "      <td>2.046211e-01</td>\n",
       "      <td>9.990826e-02</td>\n",
       "      <td>0.213098</td>\n",
       "      <td>1.000000</td>\n",
       "    </tr>\n",
       "  </tbody>\n",
       "</table>\n",
       "</div>"
      ],
      "text/plain": [
       "                Point            C1            L1            C2            L2  \\\n",
       "Point        1.000000  8.627235e-01  9.988613e-02  9.041656e-03  5.844339e-04   \n",
       "C1           0.862724  1.000000e+00  2.711442e-02  2.189315e-03  1.699551e-08   \n",
       "L1           0.099886  2.711442e-02  1.000000e+00 -6.832886e-04  2.818449e-08   \n",
       "C2           0.009042  2.189315e-03 -6.832886e-04  1.000000e+00  5.666654e-08   \n",
       "L2           0.000584  1.699551e-08  2.818449e-08  5.666654e-08  1.000000e+00   \n",
       "PhaseMargin -0.129191 -8.618234e-02 -6.551493e-01 -6.393075e-01 -3.868910e-01   \n",
       "GainMargin  -0.562638 -6.116631e-01 -5.205376e-01  2.046211e-01  9.990826e-02   \n",
       "\n",
       "             PhaseMargin  GainMargin  \n",
       "Point          -0.129191   -0.562638  \n",
       "C1             -0.086182   -0.611663  \n",
       "L1             -0.655149   -0.520538  \n",
       "C2             -0.639308    0.204621  \n",
       "L2             -0.386891    0.099908  \n",
       "PhaseMargin     1.000000    0.213098  \n",
       "GainMargin      0.213098    1.000000  "
      ]
     },
     "execution_count": 26,
     "metadata": {},
     "output_type": "execute_result"
    }
   ],
   "source": [
    "corr =data_cleaned.corr()\n",
    "corr"
   ]
  },
  {
   "cell_type": "code",
   "execution_count": 27,
   "metadata": {},
   "outputs": [
    {
     "data": {
      "text/plain": [
       "[Text(0.5, 0, 'Point'),\n",
       " Text(1.5, 0, 'C1'),\n",
       " Text(2.5, 0, 'L1'),\n",
       " Text(3.5, 0, 'C2'),\n",
       " Text(4.5, 0, 'L2'),\n",
       " Text(5.5, 0, 'PhaseMargin'),\n",
       " Text(6.5, 0, 'GainMargin')]"
      ]
     },
     "execution_count": 27,
     "metadata": {},
     "output_type": "execute_result"
    },
    {
     "data": {
      "image/png": "[encoded data removed]",
      "text/plain": [
       "<Figure size 432x288 with 2 Axes>"
      ]
     },
     "metadata": {
      "needs_background": "light"
     },
     "output_type": "display_data"
    }
   ],
   "source": [
    "ax = sns.heatmap(\n",
    "    corr\n",
    ")\n",
    "ax.set_xticklabels(\n",
    "    ax.get_xticklabels(),\n",
    "    rotation=45,\n",
    "    horizontalalignment='right'\n",
    ")"
   ]
  },
  {
   "cell_type": "code",
   "execution_count": 28,
   "metadata": {},
   "outputs": [],
   "source": [
    "# Splitting into x and y\n",
    "x= data_cleaned[[\"C1\",\"L1\",\"C2\",\"L2\"]]\n",
    "y = data_cleaned[[\"PhaseMargin\",\"GainMargin\"]]"
   ]
  },
  {
   "cell_type": "code",
   "execution_count": 29,
   "metadata": {},
   "outputs": [],
   "source": [
    "columns = x.columns"
   ]
  },
  {
   "cell_type": "code",
   "execution_count": 30,
   "metadata": {},
   "outputs": [],
   "source": [
    "from sklearn.preprocessing import StandardScaler\n",
    "sc = StandardScaler()\n",
    "x= sc.fit_transform(x)"
   ]
  },
  {
   "cell_type": "code",
   "execution_count": 31,
   "metadata": {},
   "outputs": [
    {
     "name": "stdout",
     "output_type": "stream",
     "text": [
      "(9240, 4) (9240, 2)\n",
      "(2310, 4) (2310, 2)\n"
     ]
    }
   ],
   "source": [
    "#Splitting data into training and test sets\n",
    "x_train,x_test,y_train,y_test=train_test_split(x,y,test_size=0.2)\n",
    "print (x_train.shape, y_train.shape)\n",
    "print (x_test.shape, y_test.shape)"
   ]
  },
  {
   "cell_type": "code",
   "execution_count": 32,
   "metadata": {},
   "outputs": [
    {
     "data": {
      "text/plain": [
       "array([0.9773269 , 0.97561539, 0.9762109 ])"
      ]
     },
     "execution_count": 32,
     "metadata": {},
     "output_type": "execute_result"
    }
   ],
   "source": [
    "from sklearn.model_selection import cross_val_score,KFold\n",
    "rf_model = RandomForestRegressor(n_estimators=100,max_depth=40,random_state=0,min_samples_split=5)\n",
    "model = MultiOutputRegressor(estimator=rf_model)\n",
    "kfold = KFold(n_splits=3, random_state=10)\n",
    "score = cross_val_score(model, x_test, y_test, cv=kfold, scoring='r2')\n",
    "score #Cross validation accuracy"
   ]
  },
  {
   "cell_type": "code",
   "execution_count": 33,
   "metadata": {},
   "outputs": [
    {
     "data": {
      "text/plain": [
       "0.993337207602379"
      ]
     },
     "execution_count": 33,
     "metadata": {},
     "output_type": "execute_result"
    }
   ],
   "source": [
    "model.fit(x_train,y_train)#Fitting multi target regression(MTR)\n",
    "model.score(x_test,y_test)#Finding accuracy"
   ]
  },
  {
   "cell_type": "code",
   "execution_count": 34,
   "metadata": {},
   "outputs": [
    {
     "data": {
      "text/plain": [
       "0.9888766913644654"
      ]
     },
     "execution_count": 34,
     "metadata": {},
     "output_type": "execute_result"
    }
   ],
   "source": [
    "rf_model.fit(x_train,y_train)#Fitting random forest model\n",
    "rf_model.score(x_test,y_test)#Finding accuracy of random forest model"
   ]
  },
  {
   "cell_type": "code",
   "execution_count": 35,
   "metadata": {},
   "outputs": [],
   "source": [
    "y_mult = model.predict(x_test)#Predicting y values using MTR\n",
    "y_rf = rf_model.predict(x_test)#Predicting y values using random forest\n"
   ]
  },
  {
   "cell_type": "code",
   "execution_count": 36,
   "metadata": {},
   "outputs": [
    {
     "name": "stdout",
     "output_type": "stream",
     "text": [
      "('C1', 0.005756287143968176)\n",
      "('L1', 0.4294751399368804)\n",
      "('C2', 0.4121562607229007)\n",
      "('L2', 0.15261231219625074)\n"
     ]
    },
    {
     "data": {
      "text/plain": [
       "<matplotlib.axes._subplots.AxesSubplot at 0x1bcf7bd8988>"
      ]
     },
     "execution_count": 36,
     "metadata": {},
     "output_type": "execute_result"
    },
    {
     "data": {
      "image/png": "[encoded data removed]",
      "text/plain": [
       "<Figure size 432x288 with 1 Axes>"
      ]
     },
     "metadata": {
      "needs_background": "light"
     },
     "output_type": "display_data"
    }
   ],
   "source": [
    "# Gain Margin\n",
    "# Print the feature importance\n",
    "for feature in zip(columns, model.estimators_[0].feature_importances_):\n",
    "    print(feature)\n",
    "sns.barplot(x=columns,y=model.estimators_[0].feature_importances_)    "
   ]
  },
  {
   "cell_type": "code",
   "execution_count": 37,
   "metadata": {},
   "outputs": [
    {
     "data": {
      "text/plain": [
       "0.9888766913644654"
      ]
     },
     "execution_count": 37,
     "metadata": {},
     "output_type": "execute_result"
    }
   ],
   "source": [
    "rf_model.fit(x_train,y_train)\n",
    "rf_model.score(x_test,y_test)"
   ]
  },
  {
   "cell_type": "code",
   "execution_count": 38,
   "metadata": {},
   "outputs": [
    {
     "data": {
      "image/png": "[encoded data removed]",
      "text/plain": [
       "<Figure size 432x288 with 1 Axes>"
      ]
     },
     "metadata": {
      "needs_background": "light"
     },
     "output_type": "display_data"
    }
   ],
   "source": [
    "# Plot the results\n",
    "plt.figure()\n",
    "s = 50\n",
    "a = 0.4\n",
    "plt.scatter(y[\"GainMargin\"], y[\"PhaseMargin\"], edgecolor='k',\n",
    "            c=\"navy\", s=s, marker=\"s\", alpha=a, label=\"Data\")\n",
    "\n",
    "plt.scatter(y_mult[:, 0], y_mult[:, 1], edgecolor='k',\n",
    "            c=\"cornflowerblue\", s=s, alpha=a,\n",
    "            label=\"Multi RF score=%.2f\" % model.score(x_test, y_test))\n",
    "\n",
    "plt.scatter(y_rf[:, 0], y_rf[:, 1], edgecolor='k',\n",
    "            c=\"c\", s=s, marker=\"^\", alpha=a,\n",
    "            label=\"RF score=%.2f\" % rf_model.score(x_test, y_test))\n",
    "\n",
    "plt.legend()\n",
    "plt.show()"
   ]
  },
  {
   "cell_type": "code",
   "execution_count": 39,
   "metadata": {},
   "outputs": [
    {
     "data": {
      "text/plain": [
       "array([0.98378922, 0.98388376, 0.98699765])"
      ]
     },
     "execution_count": 39,
     "metadata": {},
     "output_type": "execute_result"
    }
   ],
   "source": [
    "import xgboost as xgb\n",
    "\n",
    "xgmodel = xgb.XGBRegressor(\n",
    "\t\tlearning_rate = 0.01,\n",
    "\t\tn_estimators = 1200,\n",
    "\t\tmax_depth = 15,\n",
    "\t\tmin_child_weight = 3,\n",
    "\t\tgamma = 0.1,\n",
    "\t\treg_lambda = 10,\n",
    "\t\tsubsample = 0.8,\n",
    "\t\treg_alpha = 1,\n",
    "\t\tcolsample_bytree = 0.8,\n",
    "\t\tobjective = 'reg:squarederror',\n",
    "\t\tnthread = -1,\n",
    "\t\tsilent = False,\n",
    "\t\tscale_pos_weight = 1)\n",
    "model = MultiOutputRegressor(estimator=xgmodel)\n",
    "kfold = KFold(n_splits=3, random_state=10)\n",
    "score = cross_val_score(model, x_test, y_test, cv=kfold, scoring='r2')\n",
    "score "
   ]
  },
  {
   "cell_type": "code",
   "execution_count": 40,
   "metadata": {},
   "outputs": [
    {
     "data": {
      "text/plain": [
       "0.994389920668513"
      ]
     },
     "execution_count": 40,
     "metadata": {},
     "output_type": "execute_result"
    }
   ],
   "source": [
    "model.fit(x_train,y_train)\n",
    "model.score(x_test,y_test)"
   ]
  },
  {
   "cell_type": "code",
   "execution_count": 196,
   "metadata": {},
   "outputs": [
    {
     "name": "stdout",
     "output_type": "stream",
     "text": [
      "('C1', 0.55634147)\n",
      "('L1', 0.24525507)\n",
      "('C2', 0.040124625)\n",
      "('L2', 0.15827887)\n"
     ]
    },
    {
     "data": {
      "text/plain": [
       "<matplotlib.axes._subplots.AxesSubplot at 0x22c83872f48>"
      ]
     },
     "execution_count": 196,
     "metadata": {},
     "output_type": "execute_result"
    },
    {
     "data": {
      "image/png": "[encoded data removed]",
      "text/plain": [
       "<Figure size 432x288 with 1 Axes>"
      ]
     },
     "metadata": {
      "needs_background": "light"
     },
     "output_type": "display_data"
    }
   ],
   "source": [
    "# Print the feature importance\n",
    "for feature in zip(columns, model.estimators_[1].feature_importances_):\n",
    "    print(feature)\n",
    "sns.barplot(x=columns,y=model.estimators_[1].feature_importances_)"
   ]
  },
  {
   "cell_type": "code",
   "execution_count": 41,
   "metadata": {},
   "outputs": [
    {
     "name": "stdout",
     "output_type": "stream",
     "text": [
      "('C1', 0.0065921643)\n",
      "('L1', 0.3612168)\n",
      "('C2', 0.48243988)\n",
      "('L2', 0.14975114)\n"
     ]
    },
    {
     "data": {
      "text/plain": [
       "<matplotlib.axes._subplots.AxesSubplot at 0x1bcfdc1b148>"
      ]
     },
     "execution_count": 41,
     "metadata": {},
     "output_type": "execute_result"
    },
    {
     "data": {
      "image/png": "[encoded data removed]",
      "text/plain": [
       "<Figure size 432x288 with 1 Axes>"
      ]
     },
     "metadata": {
      "needs_background": "light"
     },
     "output_type": "display_data"
    }
   ],
   "source": [
    "# Gain Margin\n",
    "# Print the feature importance\n",
    "for feature in zip(columns, model.estimators_[0].feature_importances_):\n",
    "    print(feature)\n",
    "sns.barplot(x=columns,y=model.estimators_[0].feature_importances_)   "
   ]
  },
  {
   "cell_type": "code",
   "execution_count": 42,
   "metadata": {},
   "outputs": [],
   "source": [
    "y_multirf = model.predict(x_test)\n",
    "y_rf=rf_model.predict(x_test)"
   ]
  },
  {
   "cell_type": "code",
   "execution_count": 43,
   "metadata": {},
   "outputs": [
    {
     "data": {
      "text/plain": [
       "0.9935091993884035"
      ]
     },
     "execution_count": 43,
     "metadata": {},
     "output_type": "execute_result"
    }
   ],
   "source": [
    "from sklearn.neural_network import MLPRegressor   \n",
    "\n",
    "model = MLPRegressor(solver='lbfgs',alpha=0.001,hidden_layer_sizes=(150,))\n",
    "model.fit(x_train,y_train)\n",
    "model.score(x_test,y_test)"
   ]
  },
  {
   "cell_type": "code",
   "execution_count": 44,
   "metadata": {},
   "outputs": [
    {
     "name": "stderr",
     "output_type": "stream",
     "text": [
      "Using TensorFlow backend.\n"
     ]
    },
    {
     "name": "stdout",
     "output_type": "stream",
     "text": [
      "Epoch 1/100\n",
      "9240/9240 [==============================] - 1s 129us/step - loss: 1444.6198 - accuracy: 0.9979\n",
      "Epoch 2/100\n",
      "9240/9240 [==============================] - 0s 32us/step - loss: 1422.7686 - accuracy: 0.7411\n",
      "Epoch 3/100\n",
      "9240/9240 [==============================] - 0s 45us/step - loss: 1347.5026 - accuracy: 0.0000e+00\n",
      "Epoch 4/100\n",
      "9240/9240 [==============================] - 0s 40us/step - loss: 1189.1939 - accuracy: 0.2619\n",
      "Epoch 5/100\n",
      "9240/9240 [==============================] - 0s 31us/step - loss: 966.3213 - accuracy: 1.0000\n",
      "Epoch 6/100\n",
      "9240/9240 [==============================] - 0s 39us/step - loss: 723.6560 - accuracy: 1.0000\n",
      "Epoch 7/100\n",
      "9240/9240 [==============================] - 0s 33us/step - loss: 485.3039 - accuracy: 1.0000\n",
      "Epoch 8/100\n",
      "9240/9240 [==============================] - 0s 42us/step - loss: 292.3803 - accuracy: 1.0000\n",
      "Epoch 9/100\n",
      "9240/9240 [==============================] - 0s 31us/step - loss: 158.1436 - accuracy: 1.0000\n",
      "Epoch 10/100\n",
      "9240/9240 [==============================] - 0s 44us/step - loss: 80.2355 - accuracy: 1.0000\n",
      "Epoch 11/100\n",
      "9240/9240 [==============================] - 0s 31us/step - loss: 44.6399 - accuracy: 1.0000\n",
      "Epoch 12/100\n",
      "9240/9240 [==============================] - 0s 53us/step - loss: 31.2326 - accuracy: 1.0000\n",
      "Epoch 13/100\n",
      "9240/9240 [==============================] - 0s 51us/step - loss: 26.1219 - accuracy: 1.0000\n",
      "Epoch 14/100\n",
      "9240/9240 [==============================] - 0s 31us/step - loss: 23.6637 - accuracy: 1.0000\n",
      "Epoch 15/100\n",
      "9240/9240 [==============================] - 1s 64us/step - loss: 22.0095 - accuracy: 1.0000\n",
      "Epoch 16/100\n",
      "9240/9240 [==============================] - 1s 57us/step - loss: 20.6234 - accuracy: 1.0000\n",
      "Epoch 17/100\n",
      "9240/9240 [==============================] - 1s 56us/step - loss: 19.3462 - accuracy: 1.0000\n",
      "Epoch 18/100\n",
      "9240/9240 [==============================] - 1s 63us/step - loss: 18.1452 - accuracy: 1.0000\n",
      "Epoch 19/100\n",
      "9240/9240 [==============================] - 0s 50us/step - loss: 16.9861 - accuracy: 1.0000\n",
      "Epoch 20/100\n",
      "9240/9240 [==============================] - 0s 34us/step - loss: 15.8754 - accuracy: 1.0000\n",
      "Epoch 21/100\n",
      "9240/9240 [==============================] - 0s 43us/step - loss: 14.8172 - accuracy: 1.0000: 0s - loss: 14.9896 - accuracy: 1\n",
      "Epoch 22/100\n",
      "9240/9240 [==============================] - 0s 30us/step - loss: 13.8130 - accuracy: 1.0000\n",
      "Epoch 23/100\n",
      "9240/9240 [==============================] - 0s 39us/step - loss: 12.8646 - accuracy: 1.0000\n",
      "Epoch 24/100\n",
      "9240/9240 [==============================] - 1s 58us/step - loss: 11.9690 - accuracy: 1.0000\n",
      "Epoch 25/100\n",
      "9240/9240 [==============================] - 1s 57us/step - loss: 11.1376 - accuracy: 1.0000\n",
      "Epoch 26/100\n",
      "9240/9240 [==============================] - 0s 44us/step - loss: 10.3654 - accuracy: 1.0000\n",
      "Epoch 27/100\n",
      "9240/9240 [==============================] - 1s 63us/step - loss: 9.6518 - accuracy: 1.0000\n",
      "Epoch 28/100\n",
      "9240/9240 [==============================] - 0s 45us/step - loss: 9.0051 - accuracy: 1.0000\n",
      "Epoch 29/100\n",
      "9240/9240 [==============================] - 0s 51us/step - loss: 8.4177 - accuracy: 1.0000\n",
      "Epoch 30/100\n",
      "9240/9240 [==============================] - 1s 63us/step - loss: 7.8883 - accuracy: 1.0000\n",
      "Epoch 31/100\n",
      "9240/9240 [==============================] - 0s 39us/step - loss: 7.4199 - accuracy: 1.0000\n",
      "Epoch 32/100\n",
      "9240/9240 [==============================] - 0s 34us/step - loss: 6.9909 - accuracy: 1.0000\n",
      "Epoch 33/100\n",
      "9240/9240 [==============================] - 0s 28us/step - loss: 6.6137 - accuracy: 1.0000\n",
      "Epoch 34/100\n",
      "9240/9240 [==============================] - 0s 41us/step - loss: 6.2703 - accuracy: 1.0000\n",
      "Epoch 35/100\n",
      "9240/9240 [==============================] - 0s 31us/step - loss: 5.9632 - accuracy: 1.0000\n",
      "Epoch 36/100\n",
      "9240/9240 [==============================] - 0s 25us/step - loss: 5.6892 - accuracy: 1.0000\n",
      "Epoch 37/100\n",
      "9240/9240 [==============================] - 0s 33us/step - loss: 5.4465 - accuracy: 1.0000\n",
      "Epoch 38/100\n",
      "9240/9240 [==============================] - 0s 31us/step - loss: 5.2275 - accuracy: 1.0000\n",
      "Epoch 39/100\n",
      "9240/9240 [==============================] - 0s 49us/step - loss: 5.0355 - accuracy: 1.0000\n",
      "Epoch 40/100\n",
      "9240/9240 [==============================] - 0s 35us/step - loss: 4.8745 - accuracy: 1.0000\n",
      "Epoch 41/100\n",
      "9240/9240 [==============================] - 0s 42us/step - loss: 4.7300 - accuracy: 1.0000\n",
      "Epoch 42/100\n",
      "9240/9240 [==============================] - 0s 20us/step - loss: 4.6095 - accuracy: 1.0000\n",
      "Epoch 43/100\n",
      "9240/9240 [==============================] - 1s 55us/step - loss: 4.5071 - accuracy: 1.0000\n",
      "Epoch 44/100\n",
      "9240/9240 [==============================] - 0s 49us/step - loss: 4.4213 - accuracy: 1.0000\n",
      "Epoch 45/100\n",
      "9240/9240 [==============================] - 1s 58us/step - loss: 4.3539 - accuracy: 1.0000\n",
      "Epoch 46/100\n",
      "9240/9240 [==============================] - 1s 64us/step - loss: 4.2953 - accuracy: 1.0000\n",
      "Epoch 47/100\n",
      "9240/9240 [==============================] - 1s 68us/step - loss: 4.2522 - accuracy: 1.0000\n",
      "Epoch 48/100\n",
      "9240/9240 [==============================] - 0s 42us/step - loss: 4.2116 - accuracy: 1.0000\n",
      "Epoch 49/100\n",
      "9240/9240 [==============================] - 0s 33us/step - loss: 4.1815 - accuracy: 1.0000\n",
      "Epoch 50/100\n",
      "9240/9240 [==============================] - 0s 53us/step - loss: 4.1574 - accuracy: 1.0000\n",
      "Epoch 51/100\n",
      "9240/9240 [==============================] - 1s 63us/step - loss: 4.1335 - accuracy: 1.0000\n",
      "Epoch 52/100\n",
      "9240/9240 [==============================] - 1s 58us/step - loss: 4.1164 - accuracy: 1.0000\n",
      "Epoch 53/100\n",
      "9240/9240 [==============================] - 1s 56us/step - loss: 4.1029 - accuracy: 1.0000\n",
      "Epoch 54/100\n",
      "9240/9240 [==============================] - 0s 40us/step - loss: 4.0892 - accuracy: 1.0000\n",
      "Epoch 55/100\n",
      "9240/9240 [==============================] - 0s 48us/step - loss: 4.0800 - accuracy: 1.0000\n",
      "Epoch 56/100\n",
      "9240/9240 [==============================] - 0s 43us/step - loss: 4.0701 - accuracy: 1.0000\n",
      "Epoch 57/100\n",
      "9240/9240 [==============================] - 0s 47us/step - loss: 4.0645 - accuracy: 1.0000\n",
      "Epoch 58/100\n",
      "9240/9240 [==============================] - 0s 40us/step - loss: 4.0535 - accuracy: 1.0000\n",
      "Epoch 59/100\n",
      "9240/9240 [==============================] - 0s 43us/step - loss: 4.0441 - accuracy: 1.0000\n",
      "Epoch 60/100\n",
      "9240/9240 [==============================] - 0s 32us/step - loss: 4.0423 - accuracy: 1.0000\n",
      "Epoch 61/100\n",
      "9240/9240 [==============================] - 0s 35us/step - loss: 4.0422 - accuracy: 1.0000\n",
      "Epoch 62/100\n",
      "9240/9240 [==============================] - 0s 31us/step - loss: 4.0331 - accuracy: 1.0000\n",
      "Epoch 63/100\n",
      "9240/9240 [==============================] - 0s 35us/step - loss: 4.0264 - accuracy: 1.0000\n",
      "Epoch 64/100\n",
      "9240/9240 [==============================] - 0s 38us/step - loss: 4.0227 - accuracy: 1.0000\n",
      "Epoch 65/100\n",
      "9240/9240 [==============================] - 0s 31us/step - loss: 4.0209 - accuracy: 1.0000\n",
      "Epoch 66/100\n",
      "9240/9240 [==============================] - 0s 37us/step - loss: 4.0139 - accuracy: 1.0000\n",
      "Epoch 67/100\n",
      "9240/9240 [==============================] - 0s 32us/step - loss: 4.0136 - accuracy: 1.0000\n",
      "Epoch 68/100\n",
      "9240/9240 [==============================] - 0s 29us/step - loss: 4.0075 - accuracy: 1.0000\n",
      "Epoch 69/100\n",
      "9240/9240 [==============================] - 0s 29us/step - loss: 4.0052 - accuracy: 1.0000\n",
      "Epoch 70/100\n",
      "9240/9240 [==============================] - 0s 29us/step - loss: 3.9998 - accuracy: 1.0000\n",
      "Epoch 71/100\n",
      "9240/9240 [==============================] - 0s 30us/step - loss: 3.9943 - accuracy: 1.0000\n",
      "Epoch 72/100\n",
      "9240/9240 [==============================] - 0s 31us/step - loss: 3.9910 - accuracy: 1.0000\n",
      "Epoch 73/100\n",
      "9240/9240 [==============================] - 0s 30us/step - loss: 3.9827 - accuracy: 1.0000\n",
      "Epoch 74/100\n",
      "9240/9240 [==============================] - 0s 29us/step - loss: 3.9812 - accuracy: 1.0000\n",
      "Epoch 75/100\n",
      "9240/9240 [==============================] - 0s 29us/step - loss: 3.9802 - accuracy: 1.0000\n",
      "Epoch 76/100\n",
      "9240/9240 [==============================] - 0s 29us/step - loss: 3.9677 - accuracy: 1.0000\n",
      "Epoch 77/100\n",
      "9240/9240 [==============================] - 0s 29us/step - loss: 3.9592 - accuracy: 1.0000\n",
      "Epoch 78/100\n",
      "9240/9240 [==============================] - 0s 32us/step - loss: 3.9545 - accuracy: 1.0000\n",
      "Epoch 79/100\n",
      "9240/9240 [==============================] - 0s 36us/step - loss: 3.9427 - accuracy: 1.0000\n",
      "Epoch 80/100\n",
      "9240/9240 [==============================] - 0s 43us/step - loss: 3.9358 - accuracy: 1.0000\n",
      "Epoch 81/100\n",
      "9240/9240 [==============================] - 0s 34us/step - loss: 3.9231 - accuracy: 1.0000\n",
      "Epoch 82/100\n",
      "9240/9240 [==============================] - 0s 38us/step - loss: 3.9100 - accuracy: 1.0000\n",
      "Epoch 83/100\n",
      "9240/9240 [==============================] - 0s 39us/step - loss: 3.9011 - accuracy: 1.0000\n",
      "Epoch 84/100\n",
      "9240/9240 [==============================] - 0s 38us/step - loss: 3.8895 - accuracy: 1.0000\n",
      "Epoch 85/100\n",
      "9240/9240 [==============================] - 0s 35us/step - loss: 3.8777 - accuracy: 1.0000\n",
      "Epoch 86/100\n",
      "9240/9240 [==============================] - 0s 30us/step - loss: 3.8618 - accuracy: 1.0000\n",
      "Epoch 87/100\n",
      "9240/9240 [==============================] - 0s 28us/step - loss: 3.8482 - accuracy: 1.0000\n",
      "Epoch 88/100\n",
      "9240/9240 [==============================] - 0s 34us/step - loss: 3.8340 - accuracy: 1.0000\n",
      "Epoch 89/100\n",
      "9240/9240 [==============================] - 0s 38us/step - loss: 3.8219 - accuracy: 1.0000\n",
      "Epoch 90/100\n",
      "9240/9240 [==============================] - 0s 42us/step - loss: 3.8050 - accuracy: 1.0000\n",
      "Epoch 91/100\n",
      "9240/9240 [==============================] - 0s 47us/step - loss: 3.7858 - accuracy: 1.0000\n",
      "Epoch 92/100\n",
      "9240/9240 [==============================] - 0s 36us/step - loss: 3.7653 - accuracy: 1.0000\n",
      "Epoch 93/100\n",
      "9240/9240 [==============================] - 0s 38us/step - loss: 3.7491 - accuracy: 1.0000\n",
      "Epoch 94/100\n",
      "9240/9240 [==============================] - 0s 38us/step - loss: 3.7335 - accuracy: 1.0000\n",
      "Epoch 95/100\n",
      "9240/9240 [==============================] - 0s 44us/step - loss: 3.7113 - accuracy: 1.0000\n",
      "Epoch 96/100\n",
      "9240/9240 [==============================] - 0s 34us/step - loss: 3.6974 - accuracy: 1.0000\n",
      "Epoch 97/100\n",
      "9240/9240 [==============================] - 0s 31us/step - loss: 3.6712 - accuracy: 1.0000\n",
      "Epoch 98/100\n",
      "9240/9240 [==============================] - 0s 31us/step - loss: 3.6559 - accuracy: 1.0000\n",
      "Epoch 99/100\n",
      "9240/9240 [==============================] - 0s 37us/step - loss: 3.6348 - accuracy: 1.0000\n",
      "Epoch 100/100\n",
      "9240/9240 [==============================] - 0s 31us/step - loss: 3.6152 - accuracy: 1.0000\n",
      "2310/2310 [==============================] - 0s 61us/step\n",
      "[3.660212831063704, 1.0]\n"
     ]
    }
   ],
   "source": [
    "from keras.models import Sequential\n",
    "from keras.layers import *\n",
    "\n",
    "model = Sequential()\n",
    "model.add(Dense(4, input_dim =4,  activation='relu',kernel_initializer=\"normal\"))\n",
    "model.add(Dense(4, activation='relu',kernel_initializer=\"normal\"))\n",
    "model.add(Dense(2, activation='linear',kernel_initializer=\"normal\"))\n",
    "model.compile(loss='mean_squared_error', optimizer='adam',metrics=[\"accuracy\"])\n",
    "\n",
    "model.fit(x_train, y_train, epochs=100, batch_size=100)\n",
    "score = model.evaluate(x_test, y_test, batch_size=100)\n",
    "print(score)"
   ]
  },
  {
   "cell_type": "code",
   "execution_count": 45,
   "metadata": {},
   "outputs": [],
   "source": [
    "ypred_ann=model.predict(x_test)"
   ]
  },
  {
   "cell_type": "code",
   "execution_count": 46,
   "metadata": {},
   "outputs": [
    {
     "data": {
      "image/png": "[encoded data removed]",
      "text/plain": [
       "<Figure size 432x288 with 1 Axes>"
      ]
     },
     "metadata": {
      "needs_background": "light"
     },
     "output_type": "display_data"
    }
   ],
   "source": [
    "plt.figure()\n",
    "s = 50\n",
    "a = 0.4\n",
    "plt.scatter(y[\"GainMargin\"], y[\"PhaseMargin\"], edgecolor='k',\n",
    "            c=\"orange\", s=s, marker=\"s\", alpha=a, label=\"Data\")\n",
    "\n",
    "plt.scatter(ypred_ann[:, 0], ypred_ann[:, 1], edgecolor='k',\n",
    "            c=\"green\", s=s, alpha=a,\n",
    "            label=\"Multi Regressor score=%.2f\")\n",
    "\n",
    "plt.legend()\n",
    "plt.show()"
   ]
  },
  {
   "cell_type": "code",
   "execution_count": 47,
   "metadata": {},
   "outputs": [
    {
     "data": {
      "text/html": [
       "<div>\n",
       "<style scoped>\n",
       "    .dataframe tbody tr th:only-of-type {\n",
       "        vertical-align: middle;\n",
       "    }\n",
       "\n",
       "    .dataframe tbody tr th {\n",
       "        vertical-align: top;\n",
       "    }\n",
       "\n",
       "    .dataframe thead th {\n",
       "        text-align: right;\n",
       "    }\n",
       "</style>\n",
       "<table border=\"1\" class=\"dataframe\">\n",
       "  <thead>\n",
       "    <tr style=\"text-align: right;\">\n",
       "      <th></th>\n",
       "      <th>fc</th>\n",
       "    </tr>\n",
       "  </thead>\n",
       "  <tbody>\n",
       "    <tr>\n",
       "      <th>count</th>\n",
       "      <td>11550</td>\n",
       "    </tr>\n",
       "    <tr>\n",
       "      <th>unique</th>\n",
       "      <td>1132</td>\n",
       "    </tr>\n",
       "    <tr>\n",
       "      <th>top</th>\n",
       "      <td>3.768e3</td>\n",
       "    </tr>\n",
       "    <tr>\n",
       "      <th>freq</th>\n",
       "      <td>27</td>\n",
       "    </tr>\n",
       "  </tbody>\n",
       "</table>\n",
       "</div>"
      ],
      "text/plain": [
       "             fc\n",
       "count     11550\n",
       "unique     1132\n",
       "top     3.768e3\n",
       "freq         27"
      ]
     },
     "execution_count": 47,
     "metadata": {},
     "output_type": "execute_result"
    }
   ],
   "source": [
    "data_cleaned[[\"fc\"]].describe()"
   ]
  },
  {
   "cell_type": "code",
   "execution_count": 48,
   "metadata": {},
   "outputs": [],
   "source": [
    "#fc is the only feature left out which can be used.\n",
    "a= data_cleaned[[\"C1\",\"L1\",\"C2\",\"L2\"]]\n",
    "b = data_cleaned[[\"PhaseMargin\",\"GainMargin\",\"fc\"]]"
   ]
  },
  {
   "cell_type": "code",
   "execution_count": 49,
   "metadata": {},
   "outputs": [],
   "source": [
    "columns1=a.columns"
   ]
  },
  {
   "cell_type": "code",
   "execution_count": 50,
   "metadata": {},
   "outputs": [],
   "source": [
    "from sklearn.preprocessing import StandardScaler\n",
    "sc = StandardScaler()\n",
    "a= sc.fit_transform(a)"
   ]
  },
  {
   "cell_type": "code",
   "execution_count": 51,
   "metadata": {},
   "outputs": [
    {
     "name": "stdout",
     "output_type": "stream",
     "text": [
      "(9240, 4) (9240, 3)\n",
      "(2310, 4) (2310, 3)\n"
     ]
    }
   ],
   "source": [
    "a_train,a_test,b_train,b_test=train_test_split(a,b,test_size=0.2)#Split data into test and training set\n",
    "print (a_train.shape, b_train.shape)\n",
    "print (a_test.shape, b_test.shape)"
   ]
  },
  {
   "cell_type": "code",
   "execution_count": 52,
   "metadata": {},
   "outputs": [
    {
     "data": {
      "text/plain": [
       "array([0.98334311, 0.9841662 , 0.98253471])"
      ]
     },
     "execution_count": 52,
     "metadata": {},
     "output_type": "execute_result"
    }
   ],
   "source": [
    "from sklearn.model_selection import cross_val_score,KFold\n",
    "rf_model = RandomForestRegressor(n_estimators=100,max_depth=40,random_state=0,min_samples_split=5)\n",
    "model = MultiOutputRegressor(estimator=rf_model)\n",
    "kfold = KFold(n_splits=3, random_state=10)\n",
    "score = cross_val_score(model, a_test, b_test, cv=kfold, scoring='r2')\n",
    "score"
   ]
  },
  {
   "cell_type": "code",
   "execution_count": 53,
   "metadata": {},
   "outputs": [
    {
     "data": {
      "text/plain": [
       "0.9952343403236096"
      ]
     },
     "execution_count": 53,
     "metadata": {},
     "output_type": "execute_result"
    }
   ],
   "source": [
    "model.fit(a_train,b_train)#MTR model fitting\n",
    "model.score(a_test,b_test)#MTR model accuracy"
   ]
  },
  {
   "cell_type": "code",
   "execution_count": 54,
   "metadata": {},
   "outputs": [
    {
     "data": {
      "text/plain": [
       "0.999450224131177"
      ]
     },
     "execution_count": 54,
     "metadata": {},
     "output_type": "execute_result"
    }
   ],
   "source": [
    "rf_model.fit(a_train,b_train)#Random forest fitting\n",
    "rf_model.score(a_test,b_test)#Random forest accuracy-an increase of 1%-better model"
   ]
  },
  {
   "cell_type": "code",
   "execution_count": 55,
   "metadata": {},
   "outputs": [],
   "source": [
    "b_mult = model.predict(a_test)\n",
    "b_rf = rf_model.predict(a_test)"
   ]
  },
  {
   "cell_type": "code",
   "execution_count": 56,
   "metadata": {},
   "outputs": [
    {
     "name": "stdout",
     "output_type": "stream",
     "text": [
      "('C1', 0.00572917278423034)\n",
      "('L1', 0.4356956421881264)\n",
      "('C2', 0.4073094717664314)\n",
      "('L2', 0.15126571326121174)\n"
     ]
    },
    {
     "data": {
      "text/plain": [
       "<matplotlib.axes._subplots.AxesSubplot at 0x1bc878a5dc8>"
      ]
     },
     "execution_count": 56,
     "metadata": {},
     "output_type": "execute_result"
    },
    {
     "data": {
      "image/png": "[encoded data removed]",
      "text/plain": [
       "<Figure size 432x288 with 1 Axes>"
      ]
     },
     "metadata": {
      "needs_background": "light"
     },
     "output_type": "display_data"
    }
   ],
   "source": [
    "# Gain Margin\n",
    "# Print the feature importance\n",
    "for feature in zip(columns1, model.estimators_[0].feature_importances_):\n",
    "    print(feature)\n",
    "sns.barplot(x=columns1,y=model.estimators_[0].feature_importances_)    "
   ]
  },
  {
   "cell_type": "code",
   "execution_count": 57,
   "metadata": {},
   "outputs": [
    {
     "name": "stdout",
     "output_type": "stream",
     "text": [
      "('C1', 0.5252614130464813)\n",
      "('L1', 0.24760152357848483)\n",
      "('C2', 0.05089649744180833)\n",
      "('L2', 0.17624056593322548)\n"
     ]
    },
    {
     "data": {
      "text/plain": [
       "<matplotlib.axes._subplots.AxesSubplot at 0x1bc879ac6c8>"
      ]
     },
     "execution_count": 57,
     "metadata": {},
     "output_type": "execute_result"
    },
    {
     "data": {
      "image/png": "[encoded data removed]",
      "text/plain": [
       "<Figure size 432x288 with 1 Axes>"
      ]
     },
     "metadata": {
      "needs_background": "light"
     },
     "output_type": "display_data"
    }
   ],
   "source": [
    "# Phase Margin\n",
    "# Print the feature importance\n",
    "for feature in zip(columns1, model.estimators_[1].feature_importances_):\n",
    "    print(feature)\n",
    "sns.barplot(x=columns1,y=model.estimators_[1].feature_importances_)    "
   ]
  },
  {
   "cell_type": "code",
   "execution_count": 58,
   "metadata": {},
   "outputs": [
    {
     "data": {
      "text/plain": [
       "0.999450224131177"
      ]
     },
     "execution_count": 58,
     "metadata": {},
     "output_type": "execute_result"
    }
   ],
   "source": [
    "rf_model.fit(a_train,b_train)\n",
    "rf_model.score(a_test,b_test)"
   ]
  },
  {
   "cell_type": "code",
   "execution_count": 59,
   "metadata": {},
   "outputs": [
    {
     "data": {
      "image/png": "[encoded data removed]",
      "text/plain": [
       "<Figure size 432x288 with 1 Axes>"
      ]
     },
     "metadata": {
      "needs_background": "light"
     },
     "output_type": "display_data"
    }
   ],
   "source": [
    "# Plot the results\n",
    "plt.figure()\n",
    "s = 50\n",
    "a = 0.4\n",
    "plt.scatter(y[\"GainMargin\"], y[\"PhaseMargin\"], edgecolor='k',\n",
    "            c=\"navy\", s=s, marker=\"s\", alpha=a, label=\"Data\")\n",
    "\n",
    "plt.scatter(y_mult[:, 0], y_mult[:, 1], edgecolor='k',\n",
    "            c=\"cornflowerblue\", s=s, alpha=a,\n",
    "            label=\"Multi RF score=%.2f\" % model.score(a_test, b_test))\n",
    "\n",
    "plt.scatter(y_rf[:, 0], y_rf[:, 1], edgecolor='k',\n",
    "            c=\"c\", s=s, marker=\"^\", alpha=a,\n",
    "            label=\"RF score=%.2f\" % rf_model.score(a_test, b_test))\n",
    "\n",
    "plt.legend()\n",
    "plt.show()\n"
   ]
  },
  {
   "cell_type": "code",
   "execution_count": 60,
   "metadata": {},
   "outputs": [
    {
     "data": {
      "text/plain": [
       "array([0.98982872, 0.99038551, 0.98815947])"
      ]
     },
     "execution_count": 60,
     "metadata": {},
     "output_type": "execute_result"
    }
   ],
   "source": [
    "from xgboost.sklearn import XGBRegressor\n",
    "\n",
    "xgmodel = XGBRegressor(\n",
    "\t\tlearning_rate = 0.01,\n",
    "\t\tn_estimators = 1200,\n",
    "\t\tmax_depth = 15,\n",
    "\t\tmin_child_weight = 3,\n",
    "\t\tgamma = 0.1,\n",
    "\t\treg_lambda = 10,\n",
    "\t\tsubsample = 0.8,\n",
    "\t\treg_alpha = 1,\n",
    "\t\tcolsample_bytree = 0.8,\n",
    "\t\tobjective = 'reg:squarederror',\n",
    "\t\tnthread = -1,\n",
    "\t\tsilent = False,\n",
    "\t\tscale_pos_weight = 1)\n",
    "model = MultiOutputRegressor(estimator=xgmodel)\n",
    "kfold = KFold(n_splits=3, random_state=10)\n",
    "score = cross_val_score(model, a_test, b_test, cv=kfold, scoring='r2')\n",
    "score#Cross validation score-xgboost"
   ]
  },
  {
   "cell_type": "code",
   "execution_count": 61,
   "metadata": {},
   "outputs": [
    {
     "data": {
      "text/plain": [
       "0.9961441707433308"
      ]
     },
     "execution_count": 61,
     "metadata": {},
     "output_type": "execute_result"
    }
   ],
   "source": [
    "model.fit(a_train,b_train)#MTR model fitting\n",
    "model.score(a_test,b_test)#MTR model accuracy"
   ]
  },
  {
   "cell_type": "code",
   "execution_count": 62,
   "metadata": {},
   "outputs": [
    {
     "name": "stdout",
     "output_type": "stream",
     "text": [
      "('C1', 0.55813885)\n",
      "('L1', 0.24687801)\n",
      "('C2', 0.039689437)\n",
      "('L2', 0.15529369)\n"
     ]
    },
    {
     "data": {
      "text/plain": [
       "<matplotlib.axes._subplots.AxesSubplot at 0x1bc878f6988>"
      ]
     },
     "execution_count": 62,
     "metadata": {},
     "output_type": "execute_result"
    },
    {
     "data": {
      "image/png": "[encoded data removed]",
      "text/plain": [
       "<Figure size 432x288 with 1 Axes>"
      ]
     },
     "metadata": {
      "needs_background": "light"
     },
     "output_type": "display_data"
    }
   ],
   "source": [
    "# Print the feature importance\n",
    "for feature in zip(columns1, model.estimators_[1].feature_importances_):\n",
    "    print(feature)\n",
    "sns.barplot(x=columns1,y=model.estimators_[1].feature_importances_)"
   ]
  },
  {
   "cell_type": "code",
   "execution_count": 218,
   "metadata": {},
   "outputs": [],
   "source": [
    "y_multirf = model.predict(a_test)\n",
    "y_rf=rf_model.predict(a_test)"
   ]
  },
  {
   "cell_type": "code",
   "execution_count": 219,
   "metadata": {},
   "outputs": [
    {
     "data": {
      "text/plain": [
       "0.999636203372224"
      ]
     },
     "execution_count": 219,
     "metadata": {},
     "output_type": "execute_result"
    }
   ],
   "source": [
    "                 \n",
    "from sklearn.neural_network import MLPRegressor   #Multilayer perceptron model using selected features\n",
    "\n",
    "model = MLPRegressor(solver='lbfgs',alpha=0.001,hidden_layer_sizes=(150,))\n",
    "model.fit(a_train,b_train)\n",
    "model.score(a_test,b_test)"
   ]
  },
  {
   "cell_type": "code",
   "execution_count": 220,
   "metadata": {},
   "outputs": [
    {
     "name": "stdout",
     "output_type": "stream",
     "text": [
      "Epoch 1/100\n",
      "9240/9240 [==============================] - 0s 41us/step - loss: 4737879.9697 - accuracy: 0.9410\n",
      "Epoch 2/100\n",
      "9240/9240 [==============================] - 0s 11us/step - loss: 4737434.5335 - accuracy: 1.0000\n",
      "Epoch 3/100\n",
      "9240/9240 [==============================] - 0s 11us/step - loss: 4736366.8193 - accuracy: 1.0000\n",
      "Epoch 4/100\n",
      "9240/9240 [==============================] - 0s 13us/step - loss: 4734219.7392 - accuracy: 1.0000\n",
      "Epoch 5/100\n",
      "9240/9240 [==============================] - 0s 16us/step - loss: 4730589.0162 - accuracy: 1.0000\n",
      "Epoch 6/100\n",
      "9240/9240 [==============================] - 0s 17us/step - loss: 4725119.2316 - accuracy: 1.0000\n",
      "Epoch 7/100\n",
      "9240/9240 [==============================] - 0s 17us/step - loss: 4717500.0097 - accuracy: 1.0000\n",
      "Epoch 8/100\n",
      "9240/9240 [==============================] - 0s 18us/step - loss: 4707483.8766 - accuracy: 1.0000\n",
      "Epoch 9/100\n",
      "9240/9240 [==============================] - 0s 19us/step - loss: 4694804.1667 - accuracy: 1.0000\n",
      "Epoch 10/100\n",
      "9240/9240 [==============================] - 0s 18us/step - loss: 4679259.9957 - accuracy: 1.0000\n",
      "Epoch 11/100\n",
      "9240/9240 [==============================] - 0s 14us/step - loss: 4660700.3896 - accuracy: 1.0000\n",
      "Epoch 12/100\n",
      "9240/9240 [==============================] - 0s 13us/step - loss: 4638973.0173 - accuracy: 1.0000\n",
      "Epoch 13/100\n",
      "9240/9240 [==============================] - 0s 13us/step - loss: 4613974.2554 - accuracy: 1.0000\n",
      "Epoch 14/100\n",
      "9240/9240 [==============================] - 0s 13us/step - loss: 4585621.7565 - accuracy: 1.0000\n",
      "Epoch 15/100\n",
      "9240/9240 [==============================] - 0s 12us/step - loss: 4553825.8009 - accuracy: 1.0000\n",
      "Epoch 16/100\n",
      "9240/9240 [==============================] - 0s 12us/step - loss: 4518473.8983 - accuracy: 1.0000\n",
      "Epoch 17/100\n",
      "9240/9240 [==============================] - 0s 13us/step - loss: 4479543.4686 - accuracy: 1.0000\n",
      "Epoch 18/100\n",
      "9240/9240 [==============================] - 0s 12us/step - loss: 4436944.9545 - accuracy: 1.0000\n",
      "Epoch 19/100\n",
      "9240/9240 [==============================] - 0s 12us/step - loss: 4390854.2327 - accuracy: 1.0000\n",
      "Epoch 20/100\n",
      "9240/9240 [==============================] - 0s 12us/step - loss: 4341117.2933 - accuracy: 1.0000\n",
      "Epoch 21/100\n",
      "9240/9240 [==============================] - 0s 12us/step - loss: 4287895.7251 - accuracy: 1.0000\n",
      "Epoch 22/100\n",
      "9240/9240 [==============================] - 0s 12us/step - loss: 4231276.0758 - accuracy: 1.0000\n",
      "Epoch 23/100\n",
      "9240/9240 [==============================] - 0s 12us/step - loss: 4171393.0173 - accuracy: 1.0000\n",
      "Epoch 24/100\n",
      "9240/9240 [==============================] - 0s 12us/step - loss: 4108327.5065 - accuracy: 1.0000\n",
      "Epoch 25/100\n",
      "9240/9240 [==============================] - 0s 12us/step - loss: 4042102.5714 - accuracy: 1.0000\n",
      "Epoch 26/100\n",
      "9240/9240 [==============================] - 0s 13us/step - loss: 3972873.0222 - accuracy: 1.0000\n",
      "Epoch 27/100\n",
      "9240/9240 [==============================] - 0s 12us/step - loss: 3900862.1705 - accuracy: 1.0000\n",
      "Epoch 28/100\n",
      "9240/9240 [==============================] - 0s 12us/step - loss: 3826201.1017 - accuracy: 1.0000\n",
      "Epoch 29/100\n",
      "9240/9240 [==============================] - 0s 12us/step - loss: 3749029.7614 - accuracy: 1.0000\n",
      "Epoch 30/100\n",
      "9240/9240 [==============================] - 0s 11us/step - loss: 3669580.8496 - accuracy: 1.0000\n",
      "Epoch 31/100\n",
      "9240/9240 [==============================] - 0s 12us/step - loss: 3588081.9021 - accuracy: 1.0000\n",
      "Epoch 32/100\n",
      "9240/9240 [==============================] - 0s 12us/step - loss: 3504622.8874 - accuracy: 1.0000\n",
      "Epoch 33/100\n",
      "9240/9240 [==============================] - 0s 12us/step - loss: 3419512.8274 - accuracy: 1.0000\n",
      "Epoch 34/100\n",
      "9240/9240 [==============================] - 0s 12us/step - loss: 3332947.1910 - accuracy: 1.0000\n",
      "Epoch 35/100\n",
      "9240/9240 [==============================] - 0s 11us/step - loss: 3245139.1472 - accuracy: 1.0000\n",
      "Epoch 36/100\n",
      "9240/9240 [==============================] - 0s 16us/step - loss: 3156294.8247 - accuracy: 1.0000\n",
      "Epoch 37/100\n",
      "9240/9240 [==============================] - 0s 19us/step - loss: 3066723.0898 - accuracy: 1.0000\n",
      "Epoch 38/100\n",
      "9240/9240 [==============================] - 0s 15us/step - loss: 2976530.9989 - accuracy: 1.0000\n",
      "Epoch 39/100\n",
      "9240/9240 [==============================] - 0s 13us/step - loss: 2886067.6986 - accuracy: 1.0000\n",
      "Epoch 40/100\n",
      "9240/9240 [==============================] - 0s 13us/step - loss: 2795479.5492 - accuracy: 1.0000\n",
      "Epoch 41/100\n",
      "9240/9240 [==============================] - 0s 13us/step - loss: 2705226.0639 - accuracy: 1.0000\n",
      "Epoch 42/100\n",
      "9240/9240 [==============================] - 0s 12us/step - loss: 2615307.6677 - accuracy: 1.0000\n",
      "Epoch 43/100\n",
      "9240/9240 [==============================] - 0s 12us/step - loss: 2526051.3047 - accuracy: 1.0000\n",
      "Epoch 44/100\n",
      "9240/9240 [==============================] - 0s 12us/step - loss: 2437691.5168 - accuracy: 1.0000\n",
      "Epoch 45/100\n",
      "9240/9240 [==============================] - 0s 12us/step - loss: 2350497.9881 - accuracy: 1.0000\n",
      "Epoch 46/100\n",
      "9240/9240 [==============================] - 0s 11us/step - loss: 2264552.1047 - accuracy: 1.0000\n",
      "Epoch 47/100\n",
      "9240/9240 [==============================] - 0s 12us/step - loss: 2180153.5484 - accuracy: 1.0000\n",
      "Epoch 48/100\n",
      "9240/9240 [==============================] - 0s 12us/step - loss: 2097467.8279 - accuracy: 1.0000\n",
      "Epoch 49/100\n",
      "9240/9240 [==============================] - 0s 12us/step - loss: 2016738.2462 - accuracy: 1.0000\n",
      "Epoch 50/100\n",
      "9240/9240 [==============================] - 0s 12us/step - loss: 1937997.6388 - accuracy: 1.0000\n",
      "Epoch 51/100\n",
      "9240/9240 [==============================] - 0s 12us/step - loss: 1861408.9459 - accuracy: 1.0000\n",
      "Epoch 52/100\n",
      "9240/9240 [==============================] - 0s 12us/step - loss: 1787139.7505 - accuracy: 1.0000\n",
      "Epoch 53/100\n",
      "9240/9240 [==============================] - 0s 12us/step - loss: 1715172.9848 - accuracy: 1.0000\n",
      "Epoch 54/100\n",
      "9240/9240 [==============================] - 0s 13us/step - loss: 1645506.7879 - accuracy: 1.0000\n",
      "Epoch 55/100\n",
      "9240/9240 [==============================] - 0s 12us/step - loss: 1578161.9272 - accuracy: 1.0000\n",
      "Epoch 56/100\n",
      "9240/9240 [==============================] - 0s 12us/step - loss: 1513129.2754 - accuracy: 1.0000\n",
      "Epoch 57/100\n",
      "9240/9240 [==============================] - 0s 12us/step - loss: 1450347.0135 - accuracy: 1.0000\n",
      "Epoch 58/100\n",
      "9240/9240 [==============================] - 0s 12us/step - loss: 1389701.1269 - accuracy: 1.0000\n",
      "Epoch 59/100\n",
      "9240/9240 [==============================] - 0s 11us/step - loss: 1331041.1924 - accuracy: 1.0000\n",
      "Epoch 60/100\n",
      "9240/9240 [==============================] - 0s 12us/step - loss: 1274333.1737 - accuracy: 1.0000\n",
      "Epoch 61/100\n",
      "9240/9240 [==============================] - 0s 11us/step - loss: 1219513.4123 - accuracy: 1.0000\n",
      "Epoch 62/100\n",
      "9240/9240 [==============================] - 0s 11us/step - loss: 1166480.3392 - accuracy: 1.0000\n",
      "Epoch 63/100\n",
      "9240/9240 [==============================] - 0s 15us/step - loss: 1115263.6554 - accuracy: 1.0000\n",
      "Epoch 64/100\n",
      "9240/9240 [==============================] - 0s 16us/step - loss: 1065719.8575 - accuracy: 1.0000\n",
      "Epoch 65/100\n",
      "9240/9240 [==============================] - 0s 16us/step - loss: 1017799.9731 - accuracy: 1.0000\n",
      "Epoch 66/100\n",
      "9240/9240 [==============================] - 0s 17us/step - loss: 971384.2650 - accuracy: 1.0000\n",
      "Epoch 67/100\n",
      "9240/9240 [==============================] - 0s 17us/step - loss: 926360.3742 - accuracy: 1.0000\n",
      "Epoch 68/100\n",
      "9240/9240 [==============================] - 0s 20us/step - loss: 882647.4007 - accuracy: 1.0000\n",
      "Epoch 69/100\n",
      "9240/9240 [==============================] - 0s 17us/step - loss: 840229.6468 - accuracy: 1.0000\n",
      "Epoch 70/100\n",
      "9240/9240 [==============================] - 0s 13us/step - loss: 798895.3063 - accuracy: 1.0000\n",
      "Epoch 71/100\n",
      "9240/9240 [==============================] - 0s 12us/step - loss: 758792.2225 - accuracy: 1.0000\n",
      "Epoch 72/100\n",
      "9240/9240 [==============================] - 0s 13us/step - loss: 719971.6653 - accuracy: 1.0000\n",
      "Epoch 73/100\n",
      "9240/9240 [==============================] - 0s 12us/step - loss: 682383.4227 - accuracy: 1.0000\n",
      "Epoch 74/100\n",
      "9240/9240 [==============================] - 0s 12us/step - loss: 646097.5346 - accuracy: 1.0000\n"
     ]
    },
    {
     "name": "stdout",
     "output_type": "stream",
     "text": [
      "Epoch 75/100\n",
      "9240/9240 [==============================] - 0s 12us/step - loss: 611044.9849 - accuracy: 1.0000\n",
      "Epoch 76/100\n",
      "9240/9240 [==============================] - 0s 17us/step - loss: 577081.5637 - accuracy: 1.0000\n",
      "Epoch 77/100\n",
      "9240/9240 [==============================] - 0s 16us/step - loss: 544254.3914 - accuracy: 1.0000\n",
      "Epoch 78/100\n",
      "9240/9240 [==============================] - 0s 19us/step - loss: 512591.8461 - accuracy: 1.0000\n",
      "Epoch 79/100\n",
      "9240/9240 [==============================] - 0s 24us/step - loss: 482212.7764 - accuracy: 1.0000\n",
      "Epoch 80/100\n",
      "9240/9240 [==============================] - 0s 20us/step - loss: 453121.6521 - accuracy: 1.0000\n",
      "Epoch 81/100\n",
      "9240/9240 [==============================] - 0s 15us/step - loss: 425253.8028 - accuracy: 1.0000\n",
      "Epoch 82/100\n",
      "9240/9240 [==============================] - 0s 16us/step - loss: 398811.9178 - accuracy: 1.0000\n",
      "Epoch 83/100\n",
      "9240/9240 [==============================] - 0s 14us/step - loss: 373652.6668 - accuracy: 1.0000\n",
      "Epoch 84/100\n",
      "9240/9240 [==============================] - 0s 13us/step - loss: 349722.2281 - accuracy: 1.0000\n",
      "Epoch 85/100\n",
      "9240/9240 [==============================] - 0s 12us/step - loss: 327074.2599 - accuracy: 1.0000\n",
      "Epoch 86/100\n",
      "9240/9240 [==============================] - 0s 12us/step - loss: 305749.1026 - accuracy: 1.0000\n",
      "Epoch 87/100\n",
      "9240/9240 [==============================] - 0s 12us/step - loss: 285694.6694 - accuracy: 1.0000\n",
      "Epoch 88/100\n",
      "9240/9240 [==============================] - 0s 12us/step - loss: 266929.0487 - accuracy: 1.0000\n",
      "Epoch 89/100\n",
      "9240/9240 [==============================] - 0s 12us/step - loss: 249407.5389 - accuracy: 1.0000\n",
      "Epoch 90/100\n",
      "9240/9240 [==============================] - 0s 11us/step - loss: 233085.6994 - accuracy: 1.0000\n",
      "Epoch 91/100\n",
      "9240/9240 [==============================] - 0s 11us/step - loss: 217854.5172 - accuracy: 1.0000\n",
      "Epoch 92/100\n",
      "9240/9240 [==============================] - 0s 11us/step - loss: 203731.2191 - accuracy: 1.0000\n",
      "Epoch 93/100\n",
      "9240/9240 [==============================] - 0s 11us/step - loss: 190631.4536 - accuracy: 1.0000\n",
      "Epoch 94/100\n",
      "9240/9240 [==============================] - 0s 11us/step - loss: 178522.2393 - accuracy: 1.0000\n",
      "Epoch 95/100\n",
      "9240/9240 [==============================] - 0s 11us/step - loss: 167319.0561 - accuracy: 1.0000\n",
      "Epoch 96/100\n",
      "9240/9240 [==============================] - 0s 11us/step - loss: 156895.7981 - accuracy: 1.0000\n",
      "Epoch 97/100\n",
      "9240/9240 [==============================] - 0s 11us/step - loss: 147246.9476 - accuracy: 1.0000\n",
      "Epoch 98/100\n",
      "9240/9240 [==============================] - 0s 11us/step - loss: 138254.9713 - accuracy: 1.0000\n",
      "Epoch 99/100\n",
      "9240/9240 [==============================] - 0s 11us/step - loss: 129922.2692 - accuracy: 1.0000\n",
      "Epoch 100/100\n",
      "9240/9240 [==============================] - 0s 11us/step - loss: 122175.5366 - accuracy: 1.0000\n",
      "2310/2310 [==============================] - 0s 26us/step\n",
      "[114998.12983630953, 1.0]\n"
     ]
    }
   ],
   "source": [
    "from keras.models import Sequential\n",
    "from keras.layers import *\n",
    "\n",
    "model = Sequential()\n",
    "model.add(Dense(4, input_dim =4,  activation='relu',kernel_initializer=\"normal\"))\n",
    "model.add(Dense(4, activation='relu',kernel_initializer=\"normal\"))\n",
    "model.add(Dense(3, activation='linear',kernel_initializer=\"normal\"))\n",
    "model.compile(loss='mean_squared_error', optimizer='adam',metrics=[\"accuracy\"])\n",
    "\n",
    "model.fit(a_train, b_train, epochs=100, batch_size=100)\n",
    "score = model.evaluate(a_test, b_test, batch_size=100)\n",
    "print(score)"
   ]
  },
  {
   "cell_type": "code",
   "execution_count": 221,
   "metadata": {},
   "outputs": [],
   "source": [
    "bpred_ann=model.predict(a_test)"
   ]
  },
  {
   "cell_type": "code",
   "execution_count": 222,
   "metadata": {},
   "outputs": [
    {
     "data": {
      "image/png": "[encoded data removed]",
      "text/plain": [
       "<Figure size 432x288 with 1 Axes>"
      ]
     },
     "metadata": {
      "needs_background": "light"
     },
     "output_type": "display_data"
    }
   ],
   "source": [
    "plt.figure()\n",
    "s = 50\n",
    "a = 0.4\n",
    "plt.scatter(y[\"GainMargin\"], y[\"PhaseMargin\"], edgecolor='k',\n",
    "            c=\"orange\", s=s, marker=\"s\", alpha=a, label=\"Data\")\n",
    "\n",
    "plt.scatter(ypred_ann[:, 0], ypred_ann[:, 1], edgecolor='k',\n",
    "            c=\"green\", s=s, alpha=a,\n",
    "            label=\"Multi Regressor score=%.2f\")\n",
    "\n",
    "plt.legend()\n",
    "plt.show()"
   ]
  },
  {
   "cell_type": "code",
   "execution_count": null,
   "metadata": {},
   "outputs": [],
   "source": []
  },
  {
   "cell_type": "code",
   "execution_count": null,
   "metadata": {},
   "outputs": [],
   "source": []
  },
  {
   "cell_type": "code",
   "execution_count": null,
   "metadata": {},
   "outputs": [],
   "source": [
    "\n"
   ]
  },
  {
   "cell_type": "code",
   "execution_count": null,
   "metadata": {},
   "outputs": [],
   "source": []
  }
 ],
 "metadata": {
  "kernelspec": {
   "display_name": "Python 3",
   "language": "python",
   "name": "python3"
  },
  "language_info": {
   "codemirror_mode": {
    "name": "ipython",
    "version": 3
   },
   "file_extension": ".py",
   "mimetype": "text/x-python",
   "name": "python",
   "nbconvert_exporter": "python",
   "pygments_lexer": "ipython3",
   "version": "3.7.5"
  }
 },
 "nbformat": 4,
 "nbformat_minor": 2
}
